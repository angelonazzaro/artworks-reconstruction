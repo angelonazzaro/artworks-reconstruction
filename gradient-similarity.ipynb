{
 "cells": [
  {
   "cell_type": "markdown",
   "source": [
    "# Gradient Approach"
   ],
   "metadata": {
    "collapsed": false
   }
  },
  {
   "cell_type": "code",
   "source": [
    "import os\n",
    "\n",
    "import numpy as np\n",
    "from matplotlib import pyplot as plt\n",
    "from utils.edge_extraction import *\n",
    "import cv2\n",
    "from utils.feature_extraction import *\n",
    "from utils.image_conversion import *"
   ],
   "metadata": {
    "collapsed": false,
    "ExecuteTime": {
     "end_time": "2024-05-15T20:13:41.908656Z",
     "start_time": "2024-05-15T20:13:41.547460Z"
    }
   },
   "execution_count": 2,
   "outputs": []
  },
  {
   "cell_type": "code",
   "source": [
    "image_green1 = cv2.imread(\"data/5.35.1.png\", cv2.IMREAD_UNCHANGED)\n",
    "image_green2 = cv2.imread(\"data/5.34.2.png\", cv2.IMREAD_UNCHANGED)\n",
    "image_yellow = cv2.imread(\"data/5.33.3.png\", cv2.IMREAD_UNCHANGED)\n",
    "\n",
    "working_region_image_green1 = extract_working_region(image_green1, threshold=10)\n",
    "working_region_image_green2 = extract_working_region(image_green2, threshold=10)\n",
    "working_region_image_yellow = extract_working_region(image_yellow, threshold=10)\n",
    "\n",
    "fig, axes = plt.subplots(3, 2, figsize=(15, 5))\n",
    "images = [image_green1, working_region_image_green1, image_green2, working_region_image_green2, image_yellow, working_region_image_yellow]\n",
    "titles = [\"Original Image\", \"Working region\"]\n",
    "\n",
    "for i, ax_row in enumerate(axes):\n",
    "    for j, ax in enumerate(ax_row):\n",
    "        ax.imshow(images[i * 2 + j])\n",
    "        ax.set_title(titles[j])\n",
    "\n",
    "plt.tight_layout()\n",
    "plt.show()"
   ],
   "metadata": {
    "collapsed": false,
    "ExecuteTime": {
     "end_time": "2024-05-15T20:13:42.179775Z",
     "start_time": "2024-05-15T20:13:41.909882Z"
    }
   },
   "execution_count": 3,
   "outputs": []
  },
  {
   "cell_type": "code",
   "source": [
    "def get_only_valid_pixels(input_image: np.ndarray) -> np.ndarray:\n",
    "    # Extract pixels with alpha channel value different from 0\n",
    "    valid_pixels = input_image[input_image[:, :, 3] != 0]\n",
    "\n",
    "    # Reshape to (num_pixels, 4)\n",
    "    reshaped_image = valid_pixels.reshape((-1, 4))\n",
    "\n",
    "    # Determine the dimensions of the reshaped image\n",
    "    num_pixels = reshaped_image.shape[0]\n",
    "    width = int(np.sqrt(num_pixels))\n",
    "    height = (num_pixels + width - 1) // width\n",
    "\n",
    "    # Pad the reshaped image to make it rectangular\n",
    "    padded_image = np.zeros((height * width, 4), dtype=np.uint8)\n",
    "    padded_image[:num_pixels, :] = reshaped_image\n",
    "\n",
    "    # Reshape the padded image to the desired dimensions\n",
    "    final_image = padded_image.reshape((height, width, 4))\n",
    "\n",
    "    # Split channel\n",
    "    b, g, r, a = cv2.split(final_image)\n",
    "    rgb_image = cv2.merge((b, g, r))\n",
    "\n",
    "    return rgb_image"
   ],
   "metadata": {
    "collapsed": false,
    "ExecuteTime": {
     "end_time": "2024-05-15T20:13:42.183256Z",
     "start_time": "2024-05-15T20:13:42.180597Z"
    }
   },
   "execution_count": 4,
   "outputs": []
  },
  {
   "cell_type": "code",
   "source": [
    "working_region_image_green1 = get_only_valid_pixels(working_region_image_green1)\n",
    "working_region_image_green2 = get_only_valid_pixels(working_region_image_green2)\n",
    "working_region_image_yellow = get_only_valid_pixels(working_region_image_yellow)\n",
    "\n",
    "working_region_image_green1 = cv.cvtColor(working_region_image_green1, cv.COLOR_BGR2HSV)\n",
    "working_region_image_green2 = cv.cvtColor(working_region_image_green2, cv.COLOR_BGR2HSV)\n",
    "working_region_image_yellow = cv.cvtColor(working_region_image_yellow, cv.COLOR_BGR2HSV)\n",
    "\n",
    "max_x = max(working_region_image_green1.shape[0], working_region_image_green2.shape[0], working_region_image_yellow.shape[0])\n",
    "max_y = max(working_region_image_green1.shape[1], working_region_image_green2.shape[1], working_region_image_yellow.shape[1])\n",
    "\n",
    "working_region_image_green1 = cv2.resize(working_region_image_green1, (max_x, max_y))\n",
    "working_region_image_green2 = cv2.resize(working_region_image_green2, (max_x, max_y))\n",
    "working_region_image_yellow = cv2.resize(working_region_image_yellow, (max_x, max_y))\n",
    "\n",
    "fig, axes = plt.subplots(1, 3, figsize=(15, 5))\n",
    "images = [working_region_image_green1, working_region_image_green2,working_region_image_yellow]\n",
    "titles = [\"Working region\"]\n",
    "\n",
    "for i, ax in enumerate(axes):\n",
    "    ax.imshow(images[i])\n",
    "    ax.set_title(titles[0])\n",
    "\n",
    "plt.show()"
   ],
   "metadata": {
    "collapsed": false,
    "ExecuteTime": {
     "end_time": "2024-05-15T20:13:42.342386Z",
     "start_time": "2024-05-15T20:13:42.185029Z"
    }
   },
   "execution_count": 5,
   "outputs": []
  },
  {
   "metadata": {
    "ExecuteTime": {
     "end_time": "2024-05-15T20:14:34.673957Z",
     "start_time": "2024-05-15T20:13:42.343254Z"
    }
   },
   "cell_type": "code",
   "source": [
    "from utils.clustering import create_dataset, compute_jacobians_dist_matrix\n",
    "\n",
    "X = create_dataset(img_dir=\"./data\", threshold=5)\n",
    "dist_matrix = compute_jacobians_dist_matrix(X)\n",
    "dist_matrix.shape"
   ],
   "execution_count": 6,
   "outputs": []
  },
  {
   "metadata": {
    "ExecuteTime": {
     "end_time": "2024-05-15T20:14:34.678266Z",
     "start_time": "2024-05-15T20:14:34.675003Z"
    }
   },
   "cell_type": "code",
   "source": "dist_matrix",
   "execution_count": 7,
   "outputs": []
  },
  {
   "metadata": {
    "ExecuteTime": {
     "end_time": "2024-05-15T20:14:34.791687Z",
     "start_time": "2024-05-15T20:14:34.678950Z"
    }
   },
   "cell_type": "code",
   "source": [
    "from sklearn.cluster import DBSCAN\n",
    "\n",
    "db = DBSCAN(eps=100, min_samples=5, metric=\"precomputed\").fit(dist_matrix)\n",
    "labels = db.labels_\n",
    "\n",
    "# Number of clusters in labels, ignoring noise if present.\n",
    "n_clusters_ = len(set(labels)) - (1 if -1 in labels else 0)\n",
    "n_noise_ = list(labels).count(-1)\n",
    "\n",
    "print(\"Estimated number of clusters: %d\" % n_clusters_)\n",
    "print(\"Estimated number of noise points: %d\" % n_noise_)"
   ],
   "execution_count": 8,
   "outputs": []
  },
  {
   "metadata": {
    "ExecuteTime": {
     "end_time": "2024-05-15T20:14:34.954538Z",
     "start_time": "2024-05-15T20:14:34.792573Z"
    }
   },
   "cell_type": "code",
   "source": [
    "from utils.clustering import create_cluster_dirs\n",
    "\n",
    "create_cluster_dirs(data_dir=\"./data\", output_dir=\"clusters/jacobians\", labels=labels)"
   ],
   "execution_count": 9,
   "outputs": []
  },
  {
   "metadata": {
    "ExecuteTime": {
     "end_time": "2024-05-15T20:17:07.910351Z",
     "start_time": "2024-05-15T20:17:07.762216Z"
    }
   },
   "cell_type": "code",
   "source": [
    "img = cv.imread(\"data/5.35.3.png\", cv.IMREAD_UNCHANGED)\n",
    "rgb_img = cv.cvtColor(img, cv.COLOR_BGR2RGB)\n",
    "\n",
    "plt.subplot(1, 2, 1)\n",
    "plt.imshow(img)\n",
    "plt.title(\"Original Image\")\n",
    "plt.subplot(1, 2, 2)\n",
    "plt.imshow(rgb_img)\n",
    "plt.title(\"RGB image\")\n",
    "plt.show()"
   ],
   "execution_count": 11,
   "outputs": []
  },
  {
   "metadata": {
    "ExecuteTime": {
     "end_time": "2024-05-15T20:19:04.031449Z",
     "start_time": "2024-05-15T20:19:03.936843Z"
    }
   },
   "cell_type": "code",
   "source": [
    "b, g, r,a = cv.split(img)\n",
    "rgba_img = np.dstack((r, g, b, a))\n",
    "\n",
    "plt.subplot(1, 2, 1)\n",
    "plt.imshow(img)\n",
    "plt.title(\"Original Image\")\n",
    "plt.subplot(1, 2, 2)\n",
    "plt.imshow(rgba_img)\n",
    "plt.title(\"RGBA image\")\n",
    "plt.show()"
   ],
   "execution_count": 16,
   "outputs": []
  },
  {
   "metadata": {
    "ExecuteTime": {
     "end_time": "2024-05-15T20:17:25.314260Z",
     "start_time": "2024-05-15T20:17:25.311797Z"
    }
   },
   "cell_type": "code",
   "source": [
    "print(img.shape)\n",
    "print(rgb_img.shape)"
   ],
   "execution_count": 12,
   "outputs": []
  },
  {
   "metadata": {
    "ExecuteTime": {
     "end_time": "2024-05-15T20:17:29.773131Z",
     "start_time": "2024-05-15T20:17:29.768556Z"
    }
   },
   "cell_type": "code",
   "source": "img",
   "execution_count": 13,
   "outputs": []
  },
  {
   "metadata": {
    "ExecuteTime": {
     "end_time": "2024-05-15T20:17:36.225598Z",
     "start_time": "2024-05-15T20:17:36.222373Z"
    }
   },
   "cell_type": "code",
   "source": "rgb_img",
   "execution_count": 14,
   "outputs": []
  },
  {
   "metadata": {},
   "cell_type": "code",
   "execution_count": null,
   "source": "",
   "outputs": []
  }
 ],
 "metadata": {
  "kernelspec": {
   "display_name": "Python 3",
   "language": "python",
   "name": "python3"
  },
  "language_info": {
   "codemirror_mode": {
    "name": "ipython",
    "version": 2
   },
   "file_extension": ".py",
   "mimetype": "text/x-python",
   "name": "python",
   "nbconvert_exporter": "python",
   "pygments_lexer": "ipython2",
   "version": "2.7.6"
  }
 },
 "nbformat": 4,
 "nbformat_minor": 0
}
