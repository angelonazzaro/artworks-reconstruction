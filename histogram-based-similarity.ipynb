{
 "cells": [
  {
   "cell_type": "markdown",
   "source": [
    "# Histogram-Based Approach"
   ],
   "metadata": {
    "collapsed": false
   }
  },
  {
   "cell_type": "code",
   "source": [
    "import numpy as np\n",
    "from matplotlib import pyplot as plt\n",
    "from utils.edge_extraction import extract_working_region\n",
    "import cv2\n",
    "from utils.image_conversion import *"
   ],
   "metadata": {
    "collapsed": false,
    "ExecuteTime": {
     "end_time": "2024-05-15T20:13:26.908890Z",
     "start_time": "2024-05-15T20:13:26.580793Z"
    }
   },
   "execution_count": 1,
   "outputs": []
  },
  {
   "cell_type": "code",
   "source": [
    "image_green1 = cv2.imread(\"./data/5.34.1.png\", cv2.IMREAD_UNCHANGED)\n",
    "image_green2 = cv2.imread(\"./data/5.38.15.png\", cv2.IMREAD_UNCHANGED)\n",
    "image_yellow = cv2.imread(\"./data/5.34.34.png\", cv2.IMREAD_UNCHANGED)\n",
    "\n",
    "working_region_image_green1 = extract_working_region(image_green1, threshold=10)\n",
    "working_region_image_green2 = extract_working_region(image_green2, threshold=10)\n",
    "working_region_image_yellow = extract_working_region(image_yellow, threshold=10)\n",
    "\n",
    "fig, axes = plt.subplots(3, 2, figsize=(15, 5))\n",
    "images = [image_green1, working_region_image_green1, image_green2, working_region_image_green2, image_yellow, working_region_image_yellow]\n",
    "titles = [\"Original Image\", \"Working region\"]\n",
    "\n",
    "for i, ax_row in enumerate(axes):\n",
    "    for j, ax in enumerate(ax_row):\n",
    "        ax.imshow(images[i * 2 + j])\n",
    "        ax.set_title(titles[j])\n",
    "\n",
    "plt.tight_layout()\n",
    "plt.show()"
   ],
   "metadata": {
    "collapsed": false,
    "ExecuteTime": {
     "end_time": "2024-05-15T20:13:27.153989Z",
     "start_time": "2024-05-15T20:13:26.910290Z"
    }
   },
   "execution_count": 2,
   "outputs": []
  },
  {
   "cell_type": "code",
   "source": [
    "def get_only_valid_pixels(input_image: np.ndarray) -> np.ndarray:\n",
    "    # Extract pixels with alpha channel value different from 0\n",
    "    valid_pixels = input_image[input_image[:, :, 3] != 0]\n",
    "\n",
    "    # Reshape to (num_pixels, 4)\n",
    "    reshaped_image = valid_pixels.reshape((-1, 4))\n",
    "\n",
    "    # Determine the dimensions of the reshaped image\n",
    "    num_pixels = reshaped_image.shape[0]\n",
    "    width = int(np.sqrt(num_pixels))\n",
    "    height = (num_pixels + width - 1) // width\n",
    "\n",
    "    # Pad the reshaped image to make it rectangular\n",
    "    padded_image = np.zeros((height * width, 4), dtype=np.uint8)\n",
    "    padded_image[:num_pixels, :] = reshaped_image\n",
    "\n",
    "    # Reshape the padded image to the desired dimensions\n",
    "    final_image = padded_image.reshape((height, width, 4))\n",
    "\n",
    "    # Split channel\n",
    "    b, g, r, a = cv2.split(final_image)\n",
    "    rgb_image = cv2.merge((b, g, r))\n",
    "\n",
    "    return rgb_image"
   ],
   "metadata": {
    "collapsed": false,
    "ExecuteTime": {
     "end_time": "2024-05-15T20:13:27.157732Z",
     "start_time": "2024-05-15T20:13:27.154889Z"
    }
   },
   "execution_count": 3,
   "outputs": []
  },
  {
   "metadata": {
    "ExecuteTime": {
     "end_time": "2024-05-15T20:13:27.315804Z",
     "start_time": "2024-05-15T20:13:27.158600Z"
    }
   },
   "cell_type": "code",
   "source": [
    "working_region_image_green1 = get_only_valid_pixels(working_region_image_green1)\n",
    "working_region_image_green2 = get_only_valid_pixels(working_region_image_green2)\n",
    "working_region_image_yellow = get_only_valid_pixels(working_region_image_yellow)\n",
    "\n",
    "working_region_image_green1 = cv.cvtColor(working_region_image_green1, cv.COLOR_BGR2HSV)\n",
    "working_region_image_green2 = cv.cvtColor(working_region_image_green2, cv.COLOR_BGR2HSV)\n",
    "working_region_image_yellow = cv.cvtColor(working_region_image_yellow, cv.COLOR_BGR2HSV)\n",
    "\n",
    "\n",
    "fig, axes = plt.subplots(1, 3, figsize=(15, 5))\n",
    "images = [working_region_image_green1, working_region_image_green2,working_region_image_yellow]\n",
    "titles = [\"Working region\"]\n",
    "\n",
    "for i, ax in enumerate(axes):\n",
    "    ax.imshow(images[i])\n",
    "    ax.set_title(titles[0])\n",
    "\n",
    "plt.show()"
   ],
   "execution_count": 4,
   "outputs": []
  },
  {
   "cell_type": "code",
   "source": [
    "hist_img_green1 = cv2.calcHist([working_region_image_green1], [0, 1, 2], None, [8, 8, 8], [0, 256, 0, 256, 0, 256])\n",
    "cv2.normalize(hist_img_green1, hist_img_green1, alpha=0, beta=1, norm_type=cv2.NORM_MINMAX)\n",
    "\n",
    "hist_img_green2 = cv2.calcHist([working_region_image_green2], [0, 1, 2], None, [8, 8, 8], [0, 256, 0, 256, 0, 256])\n",
    "cv2.normalize(hist_img_green2, hist_img_green2, alpha=0, beta=1, norm_type=cv2.NORM_MINMAX)\n",
    "\n",
    "hist_img_yellow = cv2.calcHist([working_region_image_yellow], [0, 1, 2], None, [8, 8, 8], [0, 256, 0, 256, 0, 256])\n",
    "cv2.normalize(hist_img_yellow, hist_img_yellow, alpha=0, beta=1, norm_type=cv2.NORM_MINMAX)\n",
    "\n",
    "cp_green_green = cv2.compareHist(hist_img_green1, hist_img_green2, cv2.HISTCMP_CORREL)\n",
    "print(f\"Similarity Score (Green-Green): \", round(cp_green_green, 2))\n",
    "\n",
    "cp_green_yellow = cv2.compareHist(hist_img_green1, hist_img_yellow, cv2.HISTCMP_CORREL)\n",
    "print(f\"Similarity Score (Green1-Yellow): \", round(cp_green_yellow, 2))\n",
    "\n",
    "cp_green2_yellow = cv2.compareHist(hist_img_green2, hist_img_yellow, cv2.HISTCMP_CORREL)\n",
    "print(f\"Similarity Score (Green2-Yellow): \", round(cp_green2_yellow, 2))\n",
    "\n",
    "cp_yellow_yellow = cv2.compareHist(hist_img_yellow, hist_img_yellow, cv2.HISTCMP_CORREL)\n",
    "print(f\"Similarity Score (Yellow-Yellow): \", round(cp_yellow_yellow, 2))"
   ],
   "metadata": {
    "collapsed": false,
    "ExecuteTime": {
     "end_time": "2024-05-15T20:13:27.322369Z",
     "start_time": "2024-05-15T20:13:27.317736Z"
    }
   },
   "execution_count": 5,
   "outputs": []
  },
  {
   "metadata": {
    "ExecuteTime": {
     "end_time": "2024-05-15T20:13:27.327724Z",
     "start_time": "2024-05-15T20:13:27.323222Z"
    }
   },
   "cell_type": "code",
   "source": [
    "hist_img_green1"
   ],
   "execution_count": 6,
   "outputs": []
  },
  {
   "metadata": {
    "ExecuteTime": {
     "end_time": "2024-05-15T20:13:27.394783Z",
     "start_time": "2024-05-15T20:13:27.328490Z"
    }
   },
   "cell_type": "code",
   "source": [
    "chans = cv2.split(working_region_image_yellow)\n",
    "colors = (\"b\", \"g\", \"r\")\n",
    "plt.figure()\n",
    "plt.title(\"'Flattened' Color Histogram\")\n",
    "plt.xlabel(\"Bins\")\n",
    "plt.ylabel(\"# of Pixels\")\n",
    "# loop over the image channels\n",
    "for (chan, color) in zip(chans, colors):\n",
    "\t# create a histogram for the current channel and plot it\n",
    "\thist = cv2.calcHist([chan], [0], None, [256], [0, 256])\n",
    "\tplt.plot(hist, color=color)\n",
    "\tplt.xlim([0, 256])"
   ],
   "execution_count": 7,
   "outputs": []
  },
  {
   "metadata": {
    "ExecuteTime": {
     "end_time": "2024-05-15T20:13:27.398374Z",
     "start_time": "2024-05-15T20:13:27.395735Z"
    }
   },
   "cell_type": "code",
   "source": [
    "hist = cv2.calcHist([working_region_image_green1], [0, 1, 2],\n",
    "\tNone, [8, 8, 8], [0, 256, 0, 256, 0, 256])\n",
    "print(\"3D histogram shape: {}, with {} values\".format(\n",
    "\thist.shape, hist.flatten().shape[0]))"
   ],
   "execution_count": 8,
   "outputs": []
  },
  {
   "metadata": {
    "ExecuteTime": {
     "end_time": "2024-05-15T20:13:27.401401Z",
     "start_time": "2024-05-15T20:13:27.399117Z"
    }
   },
   "cell_type": "code",
   "source": [
    "hist = cv2.calcHist([working_region_image_yellow], [0, 1, 2],\n",
    "\tNone, [8, 8, 8], [0, 256, 0, 256, 0, 256])\n",
    "print(\"3D histogram shape: {}, with {} values\".format(\n",
    "\thist.shape, hist.flatten().shape[0]))"
   ],
   "execution_count": 9,
   "outputs": []
  },
  {
   "metadata": {
    "ExecuteTime": {
     "end_time": "2024-05-15T20:13:27.404722Z",
     "start_time": "2024-05-15T20:13:27.401935Z"
    }
   },
   "cell_type": "code",
   "source": [
    "def plot_histogram(image, title, mask=None):\n",
    "    # split the image into its respective channels, then initialize\n",
    "    # the tuple of channel names along with our figure for plotting\n",
    "    chans = cv2.split(image)\n",
    "    colors = (\"b\", \"g\", \"r\")\n",
    "    plt.figure()\n",
    "    plt.title(title)\n",
    "    plt.xlabel(\"Bins\")\n",
    "    plt.ylabel(\"# of Pixels\")\n",
    "    plt.ylim([0, 256])\n",
    "    # loop over the image channels\n",
    "    for (chan, color) in zip(chans, colors):\n",
    "        # create a histogram for the current channel and plot it\n",
    "        hist = cv2.calcHist([chan], [0], mask, [256], [0, 256])\n",
    "        plt.plot(hist, color=color)\n",
    "        plt.xlim([0, 256])"
   ],
   "execution_count": 10,
   "outputs": []
  },
  {
   "metadata": {
    "ExecuteTime": {
     "end_time": "2024-05-15T20:13:27.472209Z",
     "start_time": "2024-05-15T20:13:27.405256Z"
    }
   },
   "cell_type": "code",
   "source": [
    "plot_histogram(working_region_image_yellow, \"AAA\")"
   ],
   "execution_count": 11,
   "outputs": []
  },
  {
   "metadata": {
    "ExecuteTime": {
     "end_time": "2024-05-15T20:13:27.561960Z",
     "start_time": "2024-05-15T20:13:27.473260Z"
    }
   },
   "cell_type": "code",
   "source": [
    "plot_histogram(working_region_image_green1, \"AAA\")"
   ],
   "execution_count": 12,
   "outputs": []
  },
  {
   "metadata": {
    "ExecuteTime": {
     "end_time": "2024-05-15T20:13:27.631776Z",
     "start_time": "2024-05-15T20:13:27.562723Z"
    }
   },
   "cell_type": "code",
   "source": [
    "plot_histogram(working_region_image_green2, \"AAA\")"
   ],
   "execution_count": 13,
   "outputs": []
  },
  {
   "metadata": {},
   "cell_type": "markdown",
   "source": ""
  },
  {
   "cell_type": "code",
   "source": [
    "from utils.clustering import create_dataset, compute_color_histogram_dist_matrix\n",
    "\n",
    "X = create_dataset(img_dir=\"./data\", threshold=5)\n",
    "dist_matrix = compute_color_histogram_dist_matrix(X)\n",
    "dist_matrix.shape"
   ],
   "metadata": {
    "collapsed": false,
    "ExecuteTime": {
     "end_time": "2024-05-15T20:13:29.213380Z",
     "start_time": "2024-05-15T20:13:27.634960Z"
    }
   },
   "execution_count": 14,
   "outputs": []
  },
  {
   "metadata": {
    "ExecuteTime": {
     "end_time": "2024-05-15T20:13:29.217813Z",
     "start_time": "2024-05-15T20:13:29.214389Z"
    }
   },
   "cell_type": "code",
   "source": "dist_matrix",
   "execution_count": 15,
   "outputs": []
  },
  {
   "cell_type": "code",
   "source": [
    "from sklearn.cluster import DBSCAN\n",
    "\n",
    "db = DBSCAN(eps=0.3, min_samples=10, metric=\"precomputed\").fit(dist_matrix)\n",
    "labels = db.labels_\n",
    "# Number of clusters in labels, ignoring noise if present.\n",
    "n_clusters_ = len(set(labels)) - (1 if -1 in labels else 0)\n",
    "n_noise_ = list(labels).count(-1)\n",
    "\n",
    "print(\"Estimated number of clusters: %d\" % n_clusters_)\n",
    "print(\"Estimated number of noise points: %d\" % n_noise_)"
   ],
   "metadata": {
    "collapsed": false,
    "ExecuteTime": {
     "end_time": "2024-05-15T20:13:29.366312Z",
     "start_time": "2024-05-15T20:13:29.218747Z"
    }
   },
   "execution_count": 16,
   "outputs": []
  },
  {
   "metadata": {
    "ExecuteTime": {
     "end_time": "2024-05-15T20:13:29.461123Z",
     "start_time": "2024-05-15T20:13:29.367125Z"
    }
   },
   "cell_type": "code",
   "source": [
    "from utils.clustering import create_cluster_dirs\n",
    "\n",
    "create_cluster_dirs(data_dir=\"./data\", output_dir=\"clusters/colors\", labels=labels)"
   ],
   "execution_count": 17,
   "outputs": []
  }
 ],
 "metadata": {
  "kernelspec": {
   "display_name": "Python 3",
   "language": "python",
   "name": "python3"
  },
  "language_info": {
   "codemirror_mode": {
    "name": "ipython",
    "version": 2
   },
   "file_extension": ".py",
   "mimetype": "text/x-python",
   "name": "python",
   "nbconvert_exporter": "python",
   "pygments_lexer": "ipython2",
   "version": "2.7.6"
  }
 },
 "nbformat": 4,
 "nbformat_minor": 0
}
