{
 "cells": [
  {
   "cell_type": "markdown",
   "id": "27eca293e0492052",
   "metadata": {},
   "source": [
    "# Import Dependencies"
   ]
  },
  {
   "cell_type": "code",
   "id": "5123b96350f60dd1",
   "metadata": {
    "ExecuteTime": {
     "end_time": "2024-05-17T20:47:05.316238Z",
     "start_time": "2024-05-17T20:47:04.558321Z"
    }
   },
   "source": [
    "import os \n",
    "import numpy as np \n",
    "import cv2 as cv\n",
    "import matplotlib.pyplot as plt\n",
    "\n",
    "from pygments.formatters import img\n",
    "from tqdm import tqdm\n",
    "\n",
    "from utils.edge_extraction import *\n",
    "from utils.feature_extraction import * \n",
    "from utils.fourier_transform import * \n",
    "from utils.image_conversion import * \n",
    "from utils.clustering import *\n",
    "from utils.contrast_enhancement import *"
   ],
   "outputs": [],
   "execution_count": 1
  },
  {
   "cell_type": "markdown",
   "id": "c4cbd2812370b24e",
   "metadata": {},
   "source": [
    "# Pre-processing\n",
    "\n",
    "To reduce noise in images of whole artworks and fragments, we initially considered using the Fourier transform to process the images in the frequency domain.\n",
    "\n",
    "While converting an image from RGBA to grayscale simplifies processing, it results in the loss of RGB color and alpha channel data, which can be problematic if that information is needed later. Therefore, we chose to split the image into its primary color channels (excluding the alpha channel) and process each channel separately in the frequency domain. After filtering, we planned to reconstruct the filtered image by recombining the processed channels.\n",
    "\n",
    "However, after several trials, we found that processing the channels separately led to significant information loss in one or more channels. Consequently, we decided to use the NLMeansDenoising filter instead.\n",
    "\n",
    "Since our goal is to cluster fragments that belong to the same image, we focus on maintaining \"continuity\" along the fragment borders. Therefore, our process emphasizes the information present along these edges.\n",
    "\n",
    "Steps:\n",
    "1. Extract a working region from the borders of the fragment.\n",
    "2. Filter out the transparent pixels from the working region.\n",
    "3. Denoise the working region.\n",
    "\n",
    "**CONSIDERATION**: Contrast enhancement."
   ]
  },
  {
   "cell_type": "code",
   "id": "7e881ed433270655",
   "metadata": {
    "ExecuteTime": {
     "end_time": "2024-05-17T20:47:08.805236Z",
     "start_time": "2024-05-17T20:47:05.317231Z"
    }
   },
   "source": [
    "input_dir = \"./data\"\n",
    "files = os.listdir(input_dir)\n",
    "ext = \".png\"\n",
    "threshold = 5\n",
    "\n",
    "images = []\n",
    "for filename in tqdm(files, total=len(files), desc=\"Pre-processing files: extracting working region, denoising...\"): \n",
    "    if not filename.endswith(ext):\n",
    "        continue \n",
    "    \n",
    "    image = cv.imread(os.path.join(input_dir, filename), cv.IMREAD_UNCHANGED)\n",
    "    working_region = extract_working_region(input_img=image, threshold=threshold)\n",
    "    b, g, r, a = cv.split(working_region)\n",
    "    working_region = filter_working_region(working_region)\n",
    "    # denoise working region \n",
    "    denoised_working_region = cv.fastNlMeansDenoisingColored(working_region)\n",
    "    images.append(denoised_working_region)"
   ],
   "outputs": [
    {
     "name": "stderr",
     "output_type": "stream",
     "text": [
      "Pre-processing files: extracting working region, denoising...: 100%|██████████| 328/328 [00:03<00:00, 94.37it/s] \n"
     ]
    }
   ],
   "execution_count": 2
  },
  {
   "cell_type": "markdown",
   "id": "b621d1d1f73e963",
   "metadata": {},
   "source": [
    "# Feature Extraction\n",
    "\n",
    "To extract relevant features from the fragments, we employ two methods:\n",
    "- Color Histograms\n",
    "- Gradient Jacobians"
   ]
  },
  {
   "cell_type": "markdown",
   "id": "a64f6711ab6c7ac0",
   "metadata": {},
   "source": [
    "## Color Histograms\n",
    "\n",
    "Color histograms are graphical representations of the distribution of colors in an image. They quantify the number of pixels that have specific color values, effectively capturing the color composition of the image. By analyzing the color histograms of image fragments, we can compare and cluster similar fragments based on their color distributions.\n",
    "\n",
    "**This technique is particularly useful for identifying and matching regions of images that share similar color patterns**."
   ]
  },
  {
   "cell_type": "code",
   "id": "e68fc1ff8d4286be",
   "metadata": {
    "ExecuteTime": {
     "end_time": "2024-05-17T20:47:08.816600Z",
     "start_time": "2024-05-17T20:47:08.806178Z"
    }
   },
   "source": [
    "flatten_color_histograms = compute_color_histograms(images)\n",
    "unflatten_color_histograms = compute_color_histograms(images, flatten=False)"
   ],
   "outputs": [
    {
     "name": "stderr",
     "output_type": "stream",
     "text": [
      "Computing color histograms: 100%|██████████| 328/328 [00:00<00:00, 97763.77it/s]\n",
      "Computing color histograms: 100%|██████████| 328/328 [00:00<00:00, 113527.95it/s]\n"
     ]
    }
   ],
   "execution_count": 3
  },
  {
   "cell_type": "code",
   "id": "dda2d0459364a6c3",
   "metadata": {
    "ExecuteTime": {
     "end_time": "2024-05-17T20:48:38.216925Z",
     "start_time": "2024-05-17T20:48:37.965198Z"
    }
   },
   "source": [
    "distance_matrix_color_histogram = compute_color_histogram_dist_matrix(unflatten_color_histograms)\n",
    "distance_matrix_color_histogram"
   ],
   "outputs": [
    {
     "name": "stderr",
     "output_type": "stream",
     "text": [
      "Calculating similarities: 100%|██████████| 328/328 [00:00<00:00, 1331.42it/s]\n"
     ]
    },
    {
     "data": {
      "text/plain": [
       "array([[ 0.        ,  0.94099119,  0.70407303, ...,  0.68840727,\n",
       "        18.71498171, 10.45640334],\n",
       "       [ 0.94099119,  0.        ,  0.53312135, ...,  0.52093016,\n",
       "         0.54443817,  2.4476498 ],\n",
       "       [ 0.70407303,  0.53312135,  0.        , ...,  0.15362315,\n",
       "         0.74818506,  1.14708026],\n",
       "       ...,\n",
       "       [ 0.68840727,  0.52093016,  0.15362315, ...,  0.        ,\n",
       "         0.46151521,  8.52518236],\n",
       "       [18.71498171,  0.54443817,  0.74818506, ...,  0.46151521,\n",
       "         0.        ,  8.74787502],\n",
       "       [10.45640334,  2.4476498 ,  1.14708026, ...,  8.52518236,\n",
       "         8.74787502,  0.        ]])"
      ]
     },
     "execution_count": 11,
     "metadata": {},
     "output_type": "execute_result"
    }
   ],
   "execution_count": 11
  },
  {
   "cell_type": "markdown",
   "id": "8ac9ce26-022d-4d08-bca3-cec365f503bc",
   "metadata": {},
   "source": [
    "### K-Means"
   ]
  },
  {
   "cell_type": "code",
   "id": "2db0b5ba-22b3-4536-8bb2-b52a116a914e",
   "metadata": {
    "ExecuteTime": {
     "end_time": "2024-05-17T20:47:09.467379Z",
     "start_time": "2024-05-17T20:47:09.060726Z"
    }
   },
   "source": [
    "from sklearn.cluster import KMeans\n",
    "\n",
    "kmeans = KMeans(n_clusters=3, random_state=42)\n",
    "fit_kmeans = kmeans.fit(flatten_color_histograms)\n",
    "create_cluster_dirs(data_dir=\"./data\", output_dir=\"clusters/kmeans/colors\", labels=fit_kmeans.labels_)"
   ],
   "outputs": [
    {
     "name": "stderr",
     "output_type": "stream",
     "text": [
      "Creating cluster dirs: 100%|██████████| 328/328 [00:00<00:00, 2700.26it/s]\n"
     ]
    }
   ],
   "execution_count": 5
  },
  {
   "cell_type": "markdown",
   "id": "89d721fc-2ad9-4061-8fa5-842d1b7a22cd",
   "metadata": {},
   "source": [
    "### DBSCAN"
   ]
  },
  {
   "cell_type": "code",
   "id": "d471824f-22e2-4563-bbff-3c52bbd88334",
   "metadata": {
    "ExecuteTime": {
     "end_time": "2024-05-17T20:47:09.563025Z",
     "start_time": "2024-05-17T20:47:09.473107Z"
    }
   },
   "source": [
    "from sklearn.cluster import DBSCAN\n",
    "\n",
    "db = DBSCAN(eps=0.3, min_samples=10, metric=\"precomputed\")\n",
    "fit_db = db.fit(distance_matrix_color_histogram)\n",
    "# Number of clusters in labels, ignoring noise if present.\n",
    "n_clusters_ = len(set(fit_db.labels_)) - (1 if -1 in fit_db.labels_ else 0)\n",
    "n_noise_ = list(fit_db.labels_).count(-1)\n",
    "\n",
    "print(\"Estimated number of clusters: %d\" % n_clusters_)\n",
    "print(\"Estimated number of noise points: %d\" % n_noise_)\n",
    "\n",
    "create_cluster_dirs(data_dir=\"./data\", output_dir=\"clusters/dbscan/colors\", labels= fit_db.labels_)"
   ],
   "outputs": [
    {
     "name": "stdout",
     "output_type": "stream",
     "text": [
      "Estimated number of clusters: 3\n",
      "Estimated number of noise points: 140\n"
     ]
    },
    {
     "name": "stderr",
     "output_type": "stream",
     "text": [
      "Creating cluster dirs: 100%|██████████| 328/328 [00:00<00:00, 5360.70it/s]\n"
     ]
    }
   ],
   "execution_count": 6
  },
  {
   "cell_type": "markdown",
   "id": "784aba06-659c-4e24-9369-09e343906664",
   "metadata": {},
   "source": [
    "## Gradient Jacobians\n",
    "\n",
    "Gradient Jacobians represent the gradients of pixel intensities in an image. They capture the rate of change of pixel values in both the horizontal and vertical directions, highlighting edges and texture details. By computing the Jacobians of image fragments, we can compare and group fragments that exhibit similar edge and texture patterns. Formally, the gradient jacobians we use are of the form:\n",
    "\n",
    "$$\n",
    "\\begin{align}\n",
    "\\begin{bmatrix} G_x & G_{x\\_gray} \\\\ G_y & G_{y\\_gray} \\end{bmatrix}\n",
    "\\end{align}\n",
    "$$\n",
    "\n",
    "where $G_x$ and $G_y$ are the aggregated gradient of the RGB channels, while $G_{x\\_gray}$ and $G_{y\\_gray}$ are the gradient of the grayscale image.\n",
    "\n",
    "This method is especially valuable for identifying structural similarities and continuities between different fragments."
   ]
  },
  {
   "cell_type": "code",
   "id": "278a0609-1f41-4eae-8420-bb684f9d12e7",
   "metadata": {
    "ExecuteTime": {
     "end_time": "2024-05-17T20:47:09.689047Z",
     "start_time": "2024-05-17T20:47:09.563755Z"
    }
   },
   "source": [
    "flatten_jacobians = compute_jacobians(images)\n",
    "unflatten_jacobians = compute_jacobians(images, flatten=False)"
   ],
   "outputs": [
    {
     "name": "stderr",
     "output_type": "stream",
     "text": [
      "Computing Jacobians: 100%|██████████| 328/328 [00:00<00:00, 5225.18it/s]\n",
      "Computing Jacobians: 100%|██████████| 328/328 [00:00<00:00, 5636.63it/s]\n"
     ]
    }
   ],
   "execution_count": 7
  },
  {
   "cell_type": "code",
   "id": "c60522d7-bb8d-4968-8c70-2eda1c4b48b8",
   "metadata": {
    "ExecuteTime": {
     "end_time": "2024-05-17T20:49:12.224509Z",
     "start_time": "2024-05-17T20:48:47.297184Z"
    }
   },
   "source": [
    "distance_matrix_jacobians = compute_jacobians_dist_matrix(unflatten_jacobians)\n",
    "distance_matrix_jacobians"
   ],
   "outputs": [
    {
     "name": "stderr",
     "output_type": "stream",
     "text": [
      "Calculating similarities: 100%|██████████| 328/328 [00:24<00:00, 13.16it/s]\n"
     ]
    },
    {
     "data": {
      "text/plain": [
       "array([[   0.        ,  836.70160916,  958.64829566, ..., 1123.52381831,\n",
       "         806.03275264,  819.01347532],\n",
       "       [ 836.70160916,    0.        ,  693.29550262, ...,  902.30211815,\n",
       "         396.64420592,  372.46770642],\n",
       "       [ 958.64829566,  693.29550262,    0.        , ...,  993.26215825,\n",
       "         654.43766903,  660.86244321],\n",
       "       ...,\n",
       "       [1123.52381831,  902.30211815,  993.26215825, ...,    0.        ,\n",
       "         873.30937189,  882.57807076],\n",
       "       [ 806.03275264,  396.64420592,  654.43766903, ...,  873.30937189,\n",
       "           0.        ,  338.71324583],\n",
       "       [ 819.01347532,  372.46770642,  660.86244321, ...,  882.57807076,\n",
       "         338.71324583,    0.        ]])"
      ]
     },
     "execution_count": 12,
     "metadata": {},
     "output_type": "execute_result"
    }
   ],
   "execution_count": 12
  },
  {
   "cell_type": "markdown",
   "id": "9eb50dcb-230d-499a-9603-48bfbd0b3944",
   "metadata": {},
   "source": [
    "### K-Means"
   ]
  },
  {
   "cell_type": "code",
   "id": "624f2590-032b-4fbc-91a1-66ffe0b2e8fb",
   "metadata": {
    "ExecuteTime": {
     "end_time": "2024-05-17T20:47:35.475309Z",
     "start_time": "2024-05-17T20:47:35.075774Z"
    }
   },
   "source": [
    "from sklearn.cluster import KMeans\n",
    "\n",
    "kmeans = KMeans(n_clusters=3, random_state=42)\n",
    "fit_kmeans = kmeans.fit(flatten_jacobians)\n",
    "create_cluster_dirs(data_dir=\"./data\", output_dir=\"clusters/kmeans/jacobians\", labels=fit_kmeans.labels_)"
   ],
   "outputs": [
    {
     "name": "stderr",
     "output_type": "stream",
     "text": [
      "Creating cluster dirs: 100%|██████████| 328/328 [00:00<00:00, 2059.29it/s]\n"
     ]
    }
   ],
   "execution_count": 9
  },
  {
   "cell_type": "markdown",
   "id": "76563b41-d34b-448b-8763-2cda2679fdac",
   "metadata": {},
   "source": [
    "### DBSCAN"
   ]
  },
  {
   "cell_type": "code",
   "id": "7e39d09d-752c-418b-a5fd-b48701513534",
   "metadata": {
    "ExecuteTime": {
     "end_time": "2024-05-17T20:47:35.545473Z",
     "start_time": "2024-05-17T20:47:35.476332Z"
    }
   },
   "source": [
    "from sklearn.cluster import DBSCAN\n",
    "\n",
    "db = DBSCAN(eps=0.3, min_samples=10, metric=\"precomputed\")\n",
    "fit_db = db.fit(distance_matrix_jacobians)\n",
    "# Number of clusters in labels, ignoring noise if present.\n",
    "n_clusters_ = len(set(fit_db.labels_)) - (1 if -1 in fit_db.labels_ else 0)\n",
    "n_noise_ = list(fit_db.labels_).count(-1)\n",
    "\n",
    "print(\"Estimated number of clusters: %d\" % n_clusters_)\n",
    "print(\"Estimated number of noise points: %d\" % n_noise_)\n",
    "\n",
    "create_cluster_dirs(data_dir=\"./data\", output_dir=\"clusters/dbscan/jacobians\", labels= fit_db.labels_)"
   ],
   "outputs": [
    {
     "name": "stdout",
     "output_type": "stream",
     "text": [
      "Estimated number of clusters: 0\n",
      "Estimated number of noise points: 328\n"
     ]
    },
    {
     "name": "stderr",
     "output_type": "stream",
     "text": [
      "Creating cluster dirs: 100%|██████████| 328/328 [00:00<00:00, 5326.22it/s]\n"
     ]
    }
   ],
   "execution_count": 10
  }
 ],
 "metadata": {
  "kernelspec": {
   "display_name": "Python 3 (ipykernel)",
   "language": "python",
   "name": "python3"
  },
  "language_info": {
   "codemirror_mode": {
    "name": "ipython",
    "version": 3
   },
   "file_extension": ".py",
   "mimetype": "text/x-python",
   "name": "python",
   "nbconvert_exporter": "python",
   "pygments_lexer": "ipython3",
   "version": "3.10.14"
  }
 },
 "nbformat": 4,
 "nbformat_minor": 5
}
