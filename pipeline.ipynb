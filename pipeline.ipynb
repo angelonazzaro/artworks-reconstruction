{
 "cells": [
  {
   "cell_type": "markdown",
   "id": "27eca293e0492052",
   "metadata": {},
   "source": [
    "# Import Dependencies"
   ]
  },
  {
   "cell_type": "code",
   "execution_count": 1,
   "id": "5123b96350f60dd1",
   "metadata": {
    "ExecuteTime": {
     "end_time": "2024-05-17T20:47:05.316238Z",
     "start_time": "2024-05-17T20:47:04.558321Z"
    }
   },
   "outputs": [],
   "source": [
    "import os \n",
    "import numpy as np \n",
    "import cv2 as cv\n",
    "import matplotlib.pyplot as plt\n",
    "\n",
    "from pygments.formatters import img\n",
    "from tqdm import tqdm\n",
    "\n",
    "from utils.edge_extraction import *\n",
    "from utils.feature_extraction import * \n",
    "from utils.fourier_transform import * \n",
    "from utils.image_conversion import * \n",
    "from utils.clustering import *\n",
    "from utils.contrast_enhancement import *"
   ]
  },
  {
   "cell_type": "markdown",
   "id": "c4cbd2812370b24e",
   "metadata": {},
   "source": [
    "# Pre-processing\n",
    "\n",
    "To reduce noise in images of whole artworks and fragments, we initially considered using the Fourier transform to process the images in the frequency domain.\n",
    "\n",
    "While converting an image from RGBA to grayscale simplifies processing, it results in the loss of RGB color and alpha channel data, which can be problematic if that information is needed later. Therefore, we chose to split the image into its primary color channels (excluding the alpha channel) and process each channel separately in the frequency domain. After filtering, we planned to reconstruct the filtered image by recombining the processed channels.\n",
    "\n",
    "However, after several trials, we found that processing the channels separately led to significant information loss in one or more channels. Consequently, we decided to use the NLMeansDenoising filter instead.\n",
    "\n",
    "Since our goal is to cluster fragments that belong to the same image, we focus on maintaining \"continuity\" along the fragment borders. Therefore, our process emphasizes the information present along these edges.\n",
    "\n",
    "Steps:\n",
    "1. Extract a working region from the borders of the fragment.\n",
    "2. Filter out the transparent pixels from the working region.\n",
    "3. Denoise the working region.\n",
    "\n",
    "**CONSIDERATION**: Contrast enhancement."
   ]
  },
  {
   "cell_type": "code",
   "execution_count": 2,
   "id": "7e881ed433270655",
   "metadata": {
    "ExecuteTime": {
     "end_time": "2024-05-17T20:47:08.805236Z",
     "start_time": "2024-05-17T20:47:05.317231Z"
    }
   },
   "outputs": [
    {
     "name": "stderr",
     "output_type": "stream",
     "text": [
      "Pre-processing files: extracting working region, denoising...: 100%|██████████| 286/286 [00:03<00:00, 88.00it/s] \n"
     ]
    }
   ],
   "source": [
    "input_dir = \"./data\"\n",
    "files = os.listdir(input_dir)\n",
    "ext = \".png\"\n",
    "threshold = 5\n",
    "\n",
    "images = []\n",
    "for filename in tqdm(files, total=len(files), desc=\"Pre-processing files: extracting working region, denoising...\"): \n",
    "    if not filename.endswith(ext):\n",
    "        continue \n",
    "    \n",
    "    image = cv.imread(os.path.join(input_dir, filename), cv.IMREAD_UNCHANGED)\n",
    "    working_region = extract_working_region(input_img=image, threshold=threshold)\n",
    "    b, g, r, a = cv.split(working_region)\n",
    "    working_region = filter_working_region(working_region)\n",
    "    # denoise working region \n",
    "    denoised_working_region = cv.fastNlMeansDenoisingColored(working_region)\n",
    "    images.append(denoised_working_region)"
   ]
  },
  {
   "cell_type": "markdown",
   "id": "b621d1d1f73e963",
   "metadata": {},
   "source": [
    "# Feature Extraction\n",
    "\n",
    "To extract relevant features from the fragments, we employ two methods:\n",
    "- Color Histograms\n",
    "- Gradient Jacobians"
   ]
  },
  {
   "cell_type": "markdown",
   "id": "a64f6711ab6c7ac0",
   "metadata": {},
   "source": [
    "## Color Histograms\n",
    "\n",
    "Color histograms are graphical representations of the distribution of colors in an image. They quantify the number of pixels that have specific color values, effectively capturing the color composition of the image. By analyzing the color histograms of image fragments, we can compare and cluster similar fragments based on their color distributions.\n",
    "\n",
    "**This technique is particularly useful for identifying and matching regions of images that share similar color patterns**."
   ]
  },
  {
   "cell_type": "code",
   "execution_count": 3,
   "id": "e68fc1ff8d4286be",
   "metadata": {
    "ExecuteTime": {
     "end_time": "2024-05-17T20:47:08.816600Z",
     "start_time": "2024-05-17T20:47:08.806178Z"
    }
   },
   "outputs": [
    {
     "name": "stderr",
     "output_type": "stream",
     "text": [
      "Computing color histograms: 100%|██████████| 286/286 [00:00<00:00, 78727.50it/s]\n",
      "Computing color histograms: 100%|██████████| 286/286 [00:00<00:00, 70583.76it/s]\n"
     ]
    }
   ],
   "source": [
    "flatten_color_histograms = compute_color_histograms(images)\n",
    "unflatten_color_histograms = compute_color_histograms(images, flatten=False)"
   ]
  },
  {
   "cell_type": "code",
   "execution_count": 4,
   "id": "dda2d0459364a6c3",
   "metadata": {
    "ExecuteTime": {
     "end_time": "2024-05-17T20:48:38.216925Z",
     "start_time": "2024-05-17T20:48:37.965198Z"
    }
   },
   "outputs": [
    {
     "name": "stderr",
     "output_type": "stream",
     "text": [
      "Calculating similarities: 100%|██████████| 286/286 [00:00<00:00, 1419.52it/s]\n"
     ]
    },
    {
     "data": {
      "text/plain": [
       "array([[  0.        ,   0.94099119, 147.29738396, ...,  33.6637476 ,\n",
       "         18.71498171,  10.45640334],\n",
       "       [  0.94099119,   0.        ,   5.70192506, ...,  13.93428226,\n",
       "          0.54443817,   2.4476498 ],\n",
       "       [147.29738396,   5.70192506,   0.        , ...,  25.14135639,\n",
       "         12.23961916,  14.93303917],\n",
       "       ...,\n",
       "       [ 33.6637476 ,  13.93428226,  25.14135639, ...,   0.        ,\n",
       "          1.91906615,  14.13709932],\n",
       "       [ 18.71498171,   0.54443817,  12.23961916, ...,   1.91906615,\n",
       "          0.        ,   8.74787502],\n",
       "       [ 10.45640334,   2.4476498 ,  14.93303917, ...,  14.13709932,\n",
       "          8.74787502,   0.        ]])"
      ]
     },
     "execution_count": 4,
     "metadata": {},
     "output_type": "execute_result"
    }
   ],
   "source": [
    "distance_matrix_color_histogram = compute_color_histogram_dist_matrix(unflatten_color_histograms)\n",
    "distance_matrix_color_histogram"
   ]
  },
  {
   "cell_type": "markdown",
   "id": "8ac9ce26-022d-4d08-bca3-cec365f503bc",
   "metadata": {},
   "source": [
    "### K-Means"
   ]
  },
  {
   "cell_type": "code",
   "execution_count": 5,
   "id": "2db0b5ba-22b3-4536-8bb2-b52a116a914e",
   "metadata": {
    "ExecuteTime": {
     "end_time": "2024-05-17T20:47:09.467379Z",
     "start_time": "2024-05-17T20:47:09.060726Z"
    }
   },
   "outputs": [
    {
     "name": "stderr",
     "output_type": "stream",
     "text": [
      "Creating cluster dirs: 100%|██████████| 286/286 [00:00<00:00, 3820.76it/s]\n"
     ]
    }
   ],
   "source": [
    "from sklearn.cluster import KMeans\n",
    "\n",
    "kmeans = KMeans(n_clusters=9, random_state=42)\n",
    "fit_kmeans = kmeans.fit(flatten_color_histograms)\n",
    "create_cluster_dirs(data_dir=\"./data\", output_dir=\"clusters/kmeans/colors\", labels=fit_kmeans.labels_)"
   ]
  },
  {
   "cell_type": "code",
   "execution_count": 6,
   "id": "befdbdf4-f20b-4f84-a6ee-27663fffa65b",
   "metadata": {},
   "outputs": [
    {
     "data": {
      "text/plain": [
       "{'max_item': ('cluster_8', 1.0),\n",
       " 'precision_scores': {'cluster_8': 1.0,\n",
       "  'cluster_6': 0.0,\n",
       "  'cluster_1': 1.0,\n",
       "  'cluster_0': 0.0,\n",
       "  'cluster_7': 0.0,\n",
       "  'cluster_2': 0.0,\n",
       "  'cluster_5': 0.0,\n",
       "  'cluster_4': 0.0,\n",
       "  'cluster_3': 0.0},\n",
       " 'recall': 0.10545454545454545}"
      ]
     },
     "execution_count": 6,
     "metadata": {},
     "output_type": "execute_result"
    }
   ],
   "source": [
    "compute_metrics(34, \"clusters/kmeans/colors\", output_file=\"results/kmeans_color_n_42.json\")"
   ]
  },
  {
   "cell_type": "markdown",
   "id": "89d721fc-2ad9-4061-8fa5-842d1b7a22cd",
   "metadata": {},
   "source": [
    "### DBSCAN"
   ]
  },
  {
   "cell_type": "code",
   "execution_count": 11,
   "id": "d471824f-22e2-4563-bbff-3c52bbd88334",
   "metadata": {
    "ExecuteTime": {
     "end_time": "2024-05-17T20:47:09.563025Z",
     "start_time": "2024-05-17T20:47:09.473107Z"
    }
   },
   "outputs": [
    {
     "name": "stdout",
     "output_type": "stream",
     "text": [
      "Estimated number of clusters: 3\n",
      "Estimated number of noise points: 140\n"
     ]
    },
    {
     "name": "stderr",
     "output_type": "stream",
     "text": [
      "Creating cluster dirs: 100%|██████████| 328/328 [00:00<00:00, 2608.14it/s]\n"
     ]
    }
   ],
   "source": [
    "from sklearn.cluster import DBSCAN\n",
    "\n",
    "db = DBSCAN(eps=0.3, min_samples=10, metric=\"precomputed\")\n",
    "fit_db = db.fit(distance_matrix_color_histogram)\n",
    "# Number of clusters in labels, ignoring noise if present.\n",
    "n_clusters_ = len(set(fit_db.labels_)) - (1 if -1 in fit_db.labels_ else 0)\n",
    "n_noise_ = list(fit_db.labels_).count(-1)\n",
    "\n",
    "print(\"Estimated number of clusters: %d\" % n_clusters_)\n",
    "print(\"Estimated number of noise points: %d\" % n_noise_)\n",
    "\n",
    "create_cluster_dirs(data_dir=\"./data\", output_dir=\"clusters/dbscan/colors\", labels= fit_db.labels_)"
   ]
  },
  {
   "cell_type": "code",
   "execution_count": 16,
   "id": "8472a946-ad0f-454e-8137-ce64e198be00",
   "metadata": {},
   "outputs": [
    {
     "data": {
      "text/plain": [
       "{'max_item': ('unclustered', 0.22142857142857142),\n",
       " 'precision_scores': {'cluster_1': 0.0,\n",
       "  'cluster_0': 0.07142857142857142,\n",
       "  'unclustered': 0.22142857142857142,\n",
       "  'cluster_2': 0.1},\n",
       " 'recall': 0.06914893617021277}"
      ]
     },
     "execution_count": 16,
     "metadata": {},
     "output_type": "execute_result"
    }
   ],
   "source": [
    "compute_metrics(40, \"clusters/dbscan/colors\", output_file=\"results/dbscan_colors_03_10.json\")"
   ]
  },
  {
   "cell_type": "markdown",
   "id": "784aba06-659c-4e24-9369-09e343906664",
   "metadata": {},
   "source": [
    "## Gradient Jacobians\n",
    "\n",
    "Gradient Jacobians represent the gradients of pixel intensities in an image. They capture the rate of change of pixel values in both the horizontal and vertical directions, highlighting edges and texture details. By computing the Jacobians of image fragments, we can compare and group fragments that exhibit similar edge and texture patterns. Formally, the gradient jacobians we use are of the form:\n",
    "\n",
    "$$\n",
    "\\begin{align}\n",
    "\\begin{bmatrix} G_x & G_{x\\_gray} \\\\ G_y & G_{y\\_gray} \\end{bmatrix}\n",
    "\\end{align}\n",
    "$$\n",
    "\n",
    "where $G_x$ and $G_y$ are the aggregated gradient of the RGB channels, while $G_{x\\_gray}$ and $G_{y\\_gray}$ are the gradient of the grayscale image.\n",
    "\n",
    "This method is especially valuable for identifying structural similarities and continuities between different fragments."
   ]
  },
  {
   "cell_type": "code",
   "execution_count": 7,
   "id": "278a0609-1f41-4eae-8420-bb684f9d12e7",
   "metadata": {
    "ExecuteTime": {
     "end_time": "2024-05-17T20:47:09.689047Z",
     "start_time": "2024-05-17T20:47:09.563755Z"
    }
   },
   "outputs": [],
   "source": [
    "flatten_jacobians = compute_jacobians(images)\n",
    "unflatten_jacobians = compute_jacobians(images, flatten=False)"
   ]
  },
  {
   "cell_type": "code",
   "execution_count": 12,
   "id": "c60522d7-bb8d-4968-8c70-2eda1c4b48b8",
   "metadata": {
    "ExecuteTime": {
     "end_time": "2024-05-17T20:49:12.224509Z",
     "start_time": "2024-05-17T20:48:47.297184Z"
    }
   },
   "outputs": [],
   "source": [
    "distance_matrix_jacobians = compute_jacobians_dist_matrix(unflatten_jacobians)\n",
    "distance_matrix_jacobians"
   ]
  },
  {
   "cell_type": "markdown",
   "id": "9eb50dcb-230d-499a-9603-48bfbd0b3944",
   "metadata": {},
   "source": [
    "### K-Means"
   ]
  },
  {
   "cell_type": "code",
   "execution_count": 9,
   "id": "624f2590-032b-4fbc-91a1-66ffe0b2e8fb",
   "metadata": {
    "ExecuteTime": {
     "end_time": "2024-05-17T20:47:35.475309Z",
     "start_time": "2024-05-17T20:47:35.075774Z"
    }
   },
   "outputs": [],
   "source": [
    "from sklearn.cluster import KMeans\n",
    "\n",
    "kmeans = KMeans(n_clusters=3, random_state=42)\n",
    "fit_kmeans = kmeans.fit(flatten_jacobians)\n",
    "create_cluster_dirs(data_dir=\"./data\", output_dir=\"clusters/kmeans/jacobians\", labels=fit_kmeans.labels_)"
   ]
  },
  {
   "cell_type": "markdown",
   "id": "76563b41-d34b-448b-8763-2cda2679fdac",
   "metadata": {},
   "source": [
    "### DBSCAN"
   ]
  },
  {
   "cell_type": "code",
   "execution_count": 10,
   "id": "7e39d09d-752c-418b-a5fd-b48701513534",
   "metadata": {
    "ExecuteTime": {
     "end_time": "2024-05-17T20:47:35.545473Z",
     "start_time": "2024-05-17T20:47:35.476332Z"
    }
   },
   "outputs": [],
   "source": [
    "from sklearn.cluster import DBSCAN\n",
    "\n",
    "db = DBSCAN(eps=0.3, min_samples=10, metric=\"precomputed\")\n",
    "fit_db = db.fit(distance_matrix_jacobians)\n",
    "# Number of clusters in labels, ignoring noise if present.\n",
    "n_clusters_ = len(set(fit_db.labels_)) - (1 if -1 in fit_db.labels_ else 0)\n",
    "n_noise_ = list(fit_db.labels_).count(-1)\n",
    "\n",
    "print(\"Estimated number of clusters: %d\" % n_clusters_)\n",
    "print(\"Estimated number of noise points: %d\" % n_noise_)\n",
    "\n",
    "create_cluster_dirs(data_dir=\"./data\", output_dir=\"clusters/dbscan/jacobians\", labels= fit_db.labels_)"
   ]
  }
 ],
 "metadata": {
  "kernelspec": {
   "display_name": "Python 3 (ipykernel)",
   "language": "python",
   "name": "python3"
  },
  "language_info": {
   "codemirror_mode": {
    "name": "ipython",
    "version": 3
   },
   "file_extension": ".py",
   "mimetype": "text/x-python",
   "name": "python",
   "nbconvert_exporter": "python",
   "pygments_lexer": "ipython3",
   "version": "3.10.14"
  }
 },
 "nbformat": 4,
 "nbformat_minor": 5
}
